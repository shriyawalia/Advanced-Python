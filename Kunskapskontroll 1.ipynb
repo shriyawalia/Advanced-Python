{
 "cells": [
  {
   "cell_type": "markdown",
   "id": "343e7353-8dd5-459b-8e1a-b36a1f7a4af2",
   "metadata": {},
   "source": [
    "### Fråga 1"
   ]
  },
  {
   "cell_type": "markdown",
   "id": "05528a47-a53e-418c-9ef6-8d83278d44e6",
   "metadata": {},
   "source": [
    "import pandas as pd  \n",
    "import tkinter as tk  \n",
    "from tkinter import ttk, filedialog, messagebox  \n",
    "\n",
    "# Läs in CSV-filen\n",
    "df = pd.read_csv('test_data.csv')\n",
    "\n",
    "class VehicleViewerApp:\n",
    "    def __init__(self, root):\n",
    "        self.root = root\n",
    "        self.root.title(\"Autostrada - CSV Viewer\")\n",
    "        self.filtered_df = df.copy()  # Save filtered dataframe here\n",
    "\n",
    "        # Set window icon\n",
    "        self.set_window_icon()\n",
    "\n",
    "        # Style configurations\n",
    "        style = ttk.Style()\n",
    "        style.configure(\"Treeview\", rowheight=30, font=('Arial', 10))\n",
    "        style.configure(\"Treeview.Heading\", font=('Arial', 12, 'bold'))\n",
    "        style.configure(\"Treeview\", background=\"#F5F5F5\", foreground=\"#000000\", fieldbackground=\"#FFFFFF\")\n",
    "        style.configure('TButton', font=('Arial', 10), padding=6)\n",
    "\n",
    "        # Create a main frame\n",
    "        main_frame = tk.Frame(root, bg=\"#EAEAEA\")\n",
    "        main_frame.grid(row=0, column=0, sticky=\"nsew\", padx=10, pady=10)\n",
    "\n",
    "        # Create filter frame\n",
    "        filter_frame = tk.Frame(main_frame, bg=\"#EAEAEA\")\n",
    "        filter_frame.grid(row=0, column=0, sticky=\"ew\")\n",
    "\n",
    "        # Add a label and entry for filtering\n",
    "        self.filter_label = tk.Label(filter_frame, text=\"Filter (Column:Value):\", bg=\"#EAEAEA\")\n",
    "        self.filter_label.grid(row=0, column=0, padx=5, pady=5, sticky=\"w\")\n",
    "\n",
    "        self.filter_entry = tk.Entry(filter_frame, width=40)\n",
    "        self.filter_entry.grid(row=0, column=1, padx=5, pady=5)\n",
    "\n",
    "        self.filter_button = tk.Button(filter_frame, text=\"Apply Filter\", command=self.apply_filter)\n",
    "        self.filter_button.grid(row=0, column=2, padx=5, pady=5)\n",
    "\n",
    "        # Result Display as a table\n",
    "        self.tree = ttk.Treeview(main_frame, columns=[col for col in df.columns], show='headings')\n",
    "        self.tree.grid(row=1, column=0, padx=10, pady=10, sticky='nsew')\n",
    "\n",
    "        # Scrollbars\n",
    "        self.vsb = ttk.Scrollbar(main_frame, orient=\"vertical\", command=self.tree.yview)\n",
    "        self.vsb.grid(row=1, column=1, sticky='ns')\n",
    "        self.tree.configure(yscrollcommand=self.vsb.set)\n",
    "\n",
    "        self.hsb = ttk.Scrollbar(main_frame, orient=\"horizontal\", command=self.tree.xview)\n",
    "        self.hsb.grid(row=2, column=0, columnspan=2, sticky='ew')\n",
    "        self.tree.configure(xscrollcommand=self.hsb.set)\n",
    "\n",
    "        # Set column headings and initial column width\n",
    "        for col in df.columns:\n",
    "            self.tree.heading(col, text=col)\n",
    "            self.tree.column(col, width=100, stretch=tk.NO)  # Initial width, stretch turned off\n",
    "\n",
    "        self.auto_adjust_column_width()\n",
    "\n",
    "        # Row count label\n",
    "        self.row_count_label = tk.Label(main_frame, text=f\"Antal rader: {len(df)}\", font=('Arial', 10, 'bold'), bg=\"#EAEAEA\")\n",
    "        self.row_count_label.grid(row=2, column=0, pady=10, sticky=\"w\")\n",
    "\n",
    "        # Configure grid weights\n",
    "        main_frame.grid_rowconfigure(1, weight=1)\n",
    "        main_frame.grid_columnconfigure(0, weight=1)\n",
    "\n",
    "        # Make the main window resize with the content\n",
    "        self.root.grid_rowconfigure(0, weight=1)\n",
    "        self.root.grid_columnconfigure(0, weight=1)\n",
    "\n",
    "        # Display the full data\n",
    "        self.display_results(self.filtered_df)\n",
    "\n",
    "    def set_window_icon(self):\n",
    "        try:\n",
    "            # Load and set the window icon\n",
    "            self.icon_image = tk.PhotoImage(file='icon.png')  # Path to your icon file\n",
    "            self.root.iconphoto(True, self.icon_image)\n",
    "        except tk.TclError:\n",
    "            # Handle error if icon cannot be loaded\n",
    "            print(\"Error loading icon image. Make sure the file path is correct and the file is a valid image format.\")\n",
    "\n",
    "    def auto_adjust_column_width(self):\n",
    "        # Create a label for text measurement\n",
    "        label = tk.Label(self.root, font=('Arial', 10))\n",
    "        max_width = {col: len(self.tree.heading(col, 'text')) * 10 for col in self.tree[\"columns\"]}  # Start with heading width\n",
    "\n",
    "        # Check all column values\n",
    "        for item in self.tree.get_children():\n",
    "            row_values = self.tree.item(item, 'values')\n",
    "            for col, value in zip(self.tree[\"columns\"], row_values):\n",
    "                label.config(text=value)\n",
    "                text_width = label.winfo_reqwidth()\n",
    "                max_width[col] = max(max_width[col], text_width)\n",
    "\n",
    "        # Set column width based on the widest content\n",
    "        for col, width in max_width.items():\n",
    "            self.tree.column(col, width=width + 20)  # Add extra padding\n",
    "\n",
    "    def display_results(self, df_to_display):\n",
    "        # Clear previous results\n",
    "        for item in self.tree.get_children():\n",
    "            self.tree.delete(item)\n",
    "\n",
    "        # Display results\n",
    "        for _, row in df_to_display.iterrows():\n",
    "            self.tree.insert(\"\", \"end\", values=row.tolist())\n",
    "\n",
    "    def apply_filter(self):\n",
    "        filter_text = self.filter_entry.get()\n",
    "        if not filter_text:\n",
    "            self.filtered_df = df.copy()  # If filter is empty, reset to full DataFrame\n",
    "        else:\n",
    "            try:\n",
    "                column, value = filter_text.split(':', 1)\n",
    "                column = column.strip()\n",
    "                value = value.strip()\n",
    "                if column in df.columns:\n",
    "                    self.filtered_df = df[df[column].astype(str).str.contains(value, case=False, na=False)]\n",
    "                else:\n",
    "                    messagebox.showwarning(\"Invalid Column\", f\"Column '{column}' does not exist.\")\n",
    "                    self.filtered_df = df.copy()\n",
    "            except ValueError:\n",
    "                messagebox.showwarning(\"Invalid Filter\", \"Filter format should be 'Column:Value'.\")\n",
    "                self.filtered_df = df.copy()\n",
    "\n",
    "        # Update the display with filtered data\n",
    "        self.display_results(self.filtered_df)\n",
    "        self.row_count_label.config(text=f\"Antal rader: {len(self.filtered_df)}\")\n",
    "\n",
    "    def export_to_csv(self):\n",
    "        # Ask user for a file name and location\n",
    "        file_path = filedialog.asksaveasfilename(defaultextension=\".csv\",\n",
    "                                                 filetypes=[(\"CSV files\", \"*.csv\"), (\"All files\", \"*.*\")])\n",
    "        if not file_path:\n",
    "            return  # User canceled the save dialog\n",
    "\n",
    "        try:\n",
    "            # Export DataFrame to CSV with UTF-8 encoding\n",
    "            self.filtered_df.to_csv(file_path, index=False, encoding='utf-8-sig')\n",
    "            messagebox.showinfo(\"Export Success\", \"Data exported successfully!\")\n",
    "        except Exception as e:\n",
    "            messagebox.showerror(\"Export Error\", f\"An error occurred while exporting the data:\\n{e}\")\n",
    "\n",
    "\n",
    "# Create the application window\n",
    "root = tk.Tk()\n",
    "app = VehicleViewerApp(root)\n",
    "root.mainloop()"
   ]
  },
  {
   "cell_type": "markdown",
   "id": "7eff8cc5-5bc2-4cc5-9b68-c7c75b5555da",
   "metadata": {},
   "source": [
    "### Förklaring"
   ]
  },
  {
   "cell_type": "markdown",
   "id": "ebf7707f-2c7d-4e5c-aefc-f2f51345a367",
   "metadata": {},
   "source": [
    "Koden skapar ett graphical user interface (GUI) med hjälp av Tkinter för att visa data från en CSV-fil med följande steg:  \n",
    "1.CSV-filen 'test_data.csv' läses in i en pandas dataframe.  \n",
    "2. Klassen 'VehicleViewerApp' är definierad för att skapa huvudapplikationen.  \n",
    "3.Tkinter används för att skapa ett fönster som har en tabellvisning med hjälp av Treeview och inmatningsfält för att filtrera data.  \n",
    "4.Användare kan ange ett filter för att komma till den data de vill ha.  \n",
    "5. Data i CSV-filen visas i en tabell som har scrollbars.  \n",
    "6. Filtrerad data kan exporteras till en csv-fil.  "
   ]
  },
  {
   "cell_type": "markdown",
   "id": "ee7ac7af-3988-4f91-ad46-921ef1f8d644",
   "metadata": {},
   "source": [
    "### Fråga 2"
   ]
  },
  {
   "cell_type": "markdown",
   "id": "43c5000d-e848-4066-a7cb-9f7f7570809c",
   "metadata": {},
   "source": [
    "### 6 -Klass Uppgifter"
   ]
  },
  {
   "cell_type": "markdown",
   "id": "c0499066-c773-4bce-8581-949c2ebda495",
   "metadata": {},
   "source": [
    "1."
   ]
  },
  {
   "cell_type": "code",
   "execution_count": 1,
   "id": "7b7dc769-76d5-47b7-bd0a-bc5673bee78e",
   "metadata": {},
   "outputs": [],
   "source": [
    "a = 10\n",
    "b = [5, 7, 3]\n",
    "c = {2, 7, 1, 8, 2, 8}\n",
    "\n",
    "def my_fun (x) :\n",
    "    return 2*2\n",
    "\n",
    "d = my_fun"
   ]
  },
  {
   "cell_type": "code",
   "execution_count": 2,
   "id": "3eda9e2a-818b-4ffd-b14c-2bba33c589ff",
   "metadata": {},
   "outputs": [
    {
     "name": "stdout",
     "output_type": "stream",
     "text": [
      "<class 'int'>\n",
      "<class 'list'>\n",
      "<class 'set'>\n",
      "<class 'function'>\n"
     ]
    }
   ],
   "source": [
    "print(type(a))\n",
    "print(type(b))\n",
    "print(type(c))\n",
    "print(type(d))"
   ]
  },
  {
   "cell_type": "markdown",
   "id": "ad18d9a8-553f-437b-acca-10c9b8fb22dd",
   "metadata": {},
   "source": [
    "2. (a)"
   ]
  },
  {
   "cell_type": "code",
   "execution_count": 3,
   "id": "cfca4982-6eff-4837-8e9b-79ee9836f403",
   "metadata": {},
   "outputs": [],
   "source": [
    "my_variable = (1, 1, 2, 3, 5)"
   ]
  },
  {
   "cell_type": "code",
   "execution_count": 4,
   "id": "8b385a25-8afd-4b62-965c-8377a1918041",
   "metadata": {},
   "outputs": [
    {
     "name": "stdout",
     "output_type": "stream",
     "text": [
      "True\n"
     ]
    }
   ],
   "source": [
    "print(isinstance(my_variable, tuple))"
   ]
  },
  {
   "cell_type": "markdown",
   "id": "8f47a25b-dcf2-4d5a-a576-3dfffc71ca0f",
   "metadata": {},
   "source": [
    "2. (b)"
   ]
  },
  {
   "cell_type": "code",
   "execution_count": 5,
   "id": "1c256c4c-b9d5-4bac-b63d-48f0d6de133e",
   "metadata": {},
   "outputs": [
    {
     "name": "stdout",
     "output_type": "stream",
     "text": [
      "False\n"
     ]
    }
   ],
   "source": [
    "print(isinstance(my_variable, list))"
   ]
  },
  {
   "cell_type": "markdown",
   "id": "dfef5338-6b75-4e90-badd-8eef499e1bdc",
   "metadata": {},
   "source": [
    "3."
   ]
  },
  {
   "cell_type": "code",
   "execution_count": 6,
   "id": "9a06e3fa-8afb-4cd9-86b7-3a2f9eff8ebe",
   "metadata": {},
   "outputs": [],
   "source": [
    "class FruitProduct:\n",
    "    \"\"\"A class representing fruit products in a grocery store.\"\"\"\n",
    "\n",
    "    def __init__(self, price, quantity):\n",
    "        self.price= price\n",
    "        self.quantity= quantity"
   ]
  },
  {
   "cell_type": "code",
   "execution_count": 7,
   "id": "50599770-d7d1-467c-80ef-deed0ea049b8",
   "metadata": {},
   "outputs": [],
   "source": [
    "swedish_apples = FruitProduct(52, 1)"
   ]
  },
  {
   "cell_type": "code",
   "execution_count": 8,
   "id": "ae8daf62-2b16-4ad8-87ba-600e99c9fe36",
   "metadata": {},
   "outputs": [
    {
     "data": {
      "text/plain": [
       "'A class representing fruit products in a grocery store.'"
      ]
     },
     "execution_count": 8,
     "metadata": {},
     "output_type": "execute_result"
    }
   ],
   "source": [
    "swedish_apples.__doc__"
   ]
  },
  {
   "cell_type": "code",
   "execution_count": 9,
   "id": "2fe4a69d-6f71-42ce-848d-8d3c73830552",
   "metadata": {},
   "outputs": [
    {
     "name": "stdout",
     "output_type": "stream",
     "text": [
      "Price: 52\n",
      "Quantity: 1\n"
     ]
    }
   ],
   "source": [
    "print(\"Price:\", swedish_apples.price)\n",
    "print(\"Quantity:\", swedish_apples.quantity)"
   ]
  },
  {
   "cell_type": "code",
   "execution_count": 10,
   "id": "10e1ea6e-e95f-4ab4-8c44-a8da84b07966",
   "metadata": {},
   "outputs": [
    {
     "data": {
      "text/plain": [
       "__main__.FruitProduct"
      ]
     },
     "execution_count": 10,
     "metadata": {},
     "output_type": "execute_result"
    }
   ],
   "source": [
    "type(swedish_apples)"
   ]
  },
  {
   "cell_type": "code",
   "execution_count": 11,
   "id": "cd07389f-9083-48ba-8c0e-1b707cce7f62",
   "metadata": {},
   "outputs": [
    {
     "data": {
      "text/plain": [
       "True"
      ]
     },
     "execution_count": 11,
     "metadata": {},
     "output_type": "execute_result"
    }
   ],
   "source": [
    "isinstance(swedish_apples, FruitProduct)"
   ]
  },
  {
   "cell_type": "markdown",
   "id": "3e320c2a-946e-4637-823a-38ce54e7092b",
   "metadata": {},
   "source": [
    "4."
   ]
  },
  {
   "cell_type": "code",
   "execution_count": 12,
   "id": "cca41c6c-86ad-416c-a3a0-bff47c20d67d",
   "metadata": {},
   "outputs": [],
   "source": [
    "class Squares():\n",
    "    \n",
    "    def __init__(self, side_length):\n",
    "        self.side_length= side_length\n",
    "\n",
    "    def perimeter(self):\n",
    "        return self.side_length * 4\n",
    "\n",
    "    def area(self):\n",
    "        return self.side_length ** 2\n",
    "\n"
   ]
  },
  {
   "cell_type": "code",
   "execution_count": 13,
   "id": "aaed81a8-a66e-4ec7-bdc2-2ea1a41e4b04",
   "metadata": {},
   "outputs": [],
   "source": [
    "my_square= Squares(8)"
   ]
  },
  {
   "cell_type": "code",
   "execution_count": 14,
   "id": "7b5b94da-bf07-4d0b-bd40-b0d73b71e598",
   "metadata": {},
   "outputs": [
    {
     "name": "stdout",
     "output_type": "stream",
     "text": [
      "Perimeter: 32\n",
      "Area: 64\n"
     ]
    }
   ],
   "source": [
    "print('Perimeter:',my_square.perimeter())\n",
    "print('Area:',my_square.area())"
   ]
  },
  {
   "cell_type": "markdown",
   "id": "639342d4-82e6-4709-a596-5d9fe5007254",
   "metadata": {},
   "source": [
    "5. (a)"
   ]
  },
  {
   "cell_type": "code",
   "execution_count": 15,
   "id": "757dd78a-6c98-4e16-86cc-bde2e5fc8587",
   "metadata": {},
   "outputs": [],
   "source": [
    "class DescriptiveStatistics():\n",
    "    \"\"\"This class provides functionality for calculating descriptive statistics from a list.\"\"\"\n",
    "\n",
    "    def __init__(self):\n",
    "        self.data=[] #Initialise class with empty list to store data\n",
    "\n",
    "    def add_data(self, data): \n",
    "        if isinstance(data, list):\n",
    "            self.data.extend(data) #Adds a list of numbers to data attribute\n",
    "        else:\n",
    "            raise Exception ('Only \"Lists\" are accepted as data.') # Raise an error if input is not a list\n",
    "\n",
    "    def calc_sum(self):\n",
    "        return sum(self.data) # Sum up all elements in the data list\n",
    "\n",
    "    def calc_nbr_of_elements(self):\n",
    "        return len(self.data) # Return the number of elements in the data list\n",
    "\n",
    "    def calc_mean(self):\n",
    "        return (self.calc_sum())/(self.calc_nbr_of_elements()) # Compute mean by dividing sum by the count of elements\n",
    "\n",
    "    def print_summary(self):\n",
    "        print ('Sum:', self.calc_sum())\n",
    "        print('Number of elements:', self.calc_nbr_of_elements())\n",
    "        print('Mean:', self.calc_mean())"
   ]
  },
  {
   "cell_type": "code",
   "execution_count": 16,
   "id": "03e1caef-5464-42c6-bd59-b533f36c5afb",
   "metadata": {},
   "outputs": [],
   "source": [
    "L = [1, 2, 1, 3, 5, 7, 4, 9, 10, 3, 2, 1, 6, 4, 3, 2, 1, 10, 9, 1, 8, 7, 3, 2, 1]\n",
    "my_data = DescriptiveStatistics() # Creates an instance of the class\n",
    "my_data.add_data(L) # Adds list 'L' to the data attribute of 'my_data' instance using 'add_data' method"
   ]
  },
  {
   "cell_type": "code",
   "execution_count": 17,
   "id": "e4ca740e-dbf8-4e54-a975-5b68dc8181b2",
   "metadata": {},
   "outputs": [
    {
     "data": {
      "text/plain": [
       "[1, 2, 1, 3, 5, 7, 4, 9, 10, 3, 2, 1, 6, 4, 3, 2, 1, 10, 9, 1, 8, 7, 3, 2, 1]"
      ]
     },
     "execution_count": 17,
     "metadata": {},
     "output_type": "execute_result"
    }
   ],
   "source": [
    "my_data.data"
   ]
  },
  {
   "cell_type": "code",
   "execution_count": 18,
   "id": "3f4aa2f6-7a4f-408a-a7a6-4f1d39131dbc",
   "metadata": {},
   "outputs": [
    {
     "name": "stdout",
     "output_type": "stream",
     "text": [
      "Sum: 105\n",
      "Number of elements: 25\n",
      "Mean: 4.2\n"
     ]
    }
   ],
   "source": [
    "print('Sum:', my_data.calc_sum())\n",
    "print('Number of elements:', my_data.calc_nbr_of_elements())\n",
    "print('Mean:', my_data.calc_mean()) #Prints the results of the elements in list 'L' "
   ]
  },
  {
   "cell_type": "code",
   "execution_count": 19,
   "id": "4f734a72-9e8b-4876-b92b-f1bbc689ed2e",
   "metadata": {},
   "outputs": [
    {
     "name": "stdout",
     "output_type": "stream",
     "text": [
      "Sum: 105\n",
      "Number of elements: 25\n",
      "Mean: 4.2\n"
     ]
    }
   ],
   "source": [
    "my_data.print_summary()"
   ]
  },
  {
   "cell_type": "markdown",
   "id": "cab6a194-97c1-4dab-b2d0-f6975f0a23c6",
   "metadata": {},
   "source": [
    "5. (b) If you change L to a tuple, an error is raised."
   ]
  },
  {
   "cell_type": "markdown",
   "id": "be3d17fe-3f5e-481d-b7b4-ab415048190d",
   "metadata": {},
   "source": [
    "6."
   ]
  },
  {
   "cell_type": "code",
   "execution_count": 20,
   "id": "f02b3f85-71b0-48c3-9f93-e272ff3c4f8a",
   "metadata": {},
   "outputs": [],
   "source": [
    "class BankAccount:\n",
    "    def __init__(self, account_holder, balance=0):\n",
    "        self.account_holder= account_holder\n",
    "        self.balance= balance\n",
    "\n",
    "    def deposit(self, amount):\n",
    "        self.balance += amount\n",
    "        print(f'{amount} deposited. New balance {self.balance}')\n",
    "\n",
    "    def withdraw(self, amount):\n",
    "        if amount>self.balance:\n",
    "            print(\"Balance too low.\")\n",
    "        else:\n",
    "            self.balance -= amount\n",
    "            print(f'{amount} withdrawn. New balance {self.balance}')\n",
    "\n",
    "    "
   ]
  },
  {
   "cell_type": "code",
   "execution_count": 21,
   "id": "42b218b6-70cb-4811-a512-d12f90b9a2cc",
   "metadata": {},
   "outputs": [
    {
     "name": "stdout",
     "output_type": "stream",
     "text": [
      "1000000 deposited. New balance 2000000\n",
      "50000 withdrawn. New balance 1950000\n",
      "Balance too low.\n"
     ]
    }
   ],
   "source": [
    "account= BankAccount(\"Shriya\", 1000000)\n",
    "account.deposit(1000000)\n",
    "account.withdraw(50000)\n",
    "account.withdraw(5000000)"
   ]
  },
  {
   "cell_type": "markdown",
   "id": "52c4f245-06f9-435d-8edd-332902b3693e",
   "metadata": {},
   "source": [
    "7."
   ]
  },
  {
   "cell_type": "markdown",
   "id": "33104672-f85f-43b7-be58-a3784f1e254b",
   "metadata": {},
   "source": [
    "En klass är som en ritning för att skapa objekt. Den definierar en typ av objekt med specifika attribut (egenskaper) och metoder (åtgärder). Exempel: Bil\n",
    "\n",
    "En instans är ett specifikt objekt skapat från en klass. När du skapar en instans skapar du ett objekt som följer strukturen som definieras av klassen. Exempel:En eller flera bilar\n",
    "\n",
    "Attribut är variabler som hör till en instans. De har data relaterade till instansen. Exempel:Lagra information om varje bil: modell, år, färg, hastighet, osv.\n",
    "\n",
    "Metoder är funktioner definierade inom en klass som beskriver de beteenden eller åtgärder som en instans kan utföra.Exempel: Definiera vad bilen kan göra, som att starta motorn 'start_engine', stoppa den 'stop engine' eller visa information om bilen 'car_info'."
   ]
  },
  {
   "cell_type": "markdown",
   "id": "c550e953-2e36-4f10-8040-c5d45ddc2279",
   "metadata": {},
   "source": [
    "### 7-Konventioner och standarder"
   ]
  },
  {
   "cell_type": "markdown",
   "id": "0b9b8e05-7776-4a2f-a661-d0baf54ee9f2",
   "metadata": {},
   "source": [
    "1.(a) Jag skulle följa projektets stilriktlinjer istället för att strikt följa PEP 8-standarderna eftersom dessa riktlinjer inte är huggna i sten. Om företaget har valt att följa en viss stil, skulle jag bara vilja diskutera en avvikelse från den om jag anser att det är ineffektivt att fortsätta följa den. Min prioritet bör vara att samarbeta med teamet och anpassa mig till projektets specifika behov. \r\n",
    "\r\n",
    " \r\n",
    "\r\n",
    "(b) Engelska är det vanligaste språket för kommentarer. \r\n",
    "\r\n",
    " \r\n",
    "\r\n",
    "(c)Funktioner: namn i lägre fall med understreck mellan ord : ‘lowercase_with_underscores’. Namnet ska tydligt beskriva vad funktionen gör : ‘sum_weights’ \r\n",
    "\r\n",
    "Variabler: namn i lägre fall med understreck mellan ord : ‘lowercase_with_underscores’ Det ska beskriva vad variabeln respresenterar: ‘total_cost’. \r\n",
    "\r\n",
    " \r\n",
    "\r\n",
    "(d) Klassnamn bör använda CapWords, där varje ord börjar med en stor bokstav och inga understreck används, till exempel : ‘HouseGarden’  \r\n",
    "\r\n",
    " \r\n",
    "\r\n",
    "(e) All import bör placeras högst upp i ditt skript. \r\n",
    "\r\n",
    " \r\n",
    "\r\n",
    "(f) PEP 8 anger inga specifika regler för användningen av enkla eller dubbla citattecken för strängar. Du kan använda båda stilarna så länge du är konsekvent i din kodbas. \r\n",
    "\r\n",
    " \r\n",
    "\r\n",
    "(g) Alternativ 1 är det korrekta sättet att skriva kod enligt PEP 8 eftersom det följer avståndsregeln. PEP 8 rekommenderar att du placerar ett enda utrymme runt binära operatorer, såsoma till förvirring och inkonsekvens. "
   ]
  },
  {
   "cell_type": "markdown",
   "id": "b9084d49-bdc0-4e85-9634-46c867d3402c",
   "metadata": {},
   "source": [
    "2.(a) I PEP 20 betyder \"Explicit är bättre än implicit\" att kod ska vara tydlig och okomplicerad. Undvik dolt eller tvetydigt beteende; gör din kods avsikt uppenbar och lätt att förstå. \n",
    "\n",
    "(b) I PEP 20 betyder \"Simple is better than complex\" att koden ska vara så enkel som möjligt. Sträva efter tydlighet och undvik onödiga komplikationer \n",
    "\n",
    " \n",
    "3.Att följa konventioner och standarder kan verka som ett krångel, men de förenklar faktiskt kodhantering och samarbete. Konsekvent kod är lättare att läsa, underhålla och felsöka, vilket i slutändan sparar tid och minskar fel. Om alla skriver kod som de vill kan det leda till förvirring och inkonsekvens. "
   ]
  },
  {
   "cell_type": "markdown",
   "id": "862d471e-1f3f-4d91-9ef5-dee0c8057012",
   "metadata": {},
   "source": [
    "### 8-Fel hantering uppgifter"
   ]
  },
  {
   "cell_type": "markdown",
   "id": "d4a00fd1-9e08-49fb-a569-36075c085da6",
   "metadata": {},
   "source": [
    "1. (a) Syntax fel är fel som uppstår när Python inte förstår koden. Till exempel: print(\"Hello, world!\"\n",
    "   Rätt kod: print(\"Hello, world!\")"
   ]
  },
  {
   "cell_type": "markdown",
   "id": "37e422b4-9014-4678-96bb-a83d403b37dd",
   "metadata": {},
   "source": [
    "(b) Man skulle vilja fånga exceptions i ett program och inte bara låta programmet stanna vid fel för att det hjälper till att identifiera och logga       problem för senare felsökning utan att störa användarens upplevelse. Att fånga exceptions i ett program är viktigt eftersom det gör att programmet      kan hantera fel snarare än att krascha."
   ]
  },
  {
   "cell_type": "markdown",
   "id": "6d6b49e8-58b5-4801-b20a-09d7f4779dc0",
   "metadata": {},
   "source": [
    "(c)Man skulle vilja lyfta exceptions i ett program för at ange när något går fel och gör det klart att programmets normala flöde inte kan fortsätta.       Det hjälper till att hitta exakt var och varför ett fel uppstod, vilket gör det lättare att identifiera och åtgärda problem."
   ]
  },
  {
   "cell_type": "markdown",
   "id": "082bb36f-dc66-4ce7-bb0f-20655f56cc58",
   "metadata": {},
   "source": [
    "2. (a)"
   ]
  },
  {
   "cell_type": "code",
   "execution_count": 22,
   "id": "c88a6f21-54d4-48a2-a2cc-f571557d783a",
   "metadata": {},
   "outputs": [
    {
     "name": "stdout",
     "output_type": "stream",
     "text": [
      "315\n",
      "Invalid input, cannot convert to integer.\n"
     ]
    }
   ],
   "source": [
    "def convert_string_to_int(string): #Denna funktion försöker konvertera en sträng till ett heltal.\n",
    "    try:\n",
    "        int(string)  # Attempt to convert the string to an integer\n",
    "    except ValueError:\n",
    "        return \"Invalid input, cannot convert to integer.\"\n",
    "        # If a ValueError occurs (e.g., the string is not a number),\n",
    "        # return an error message\n",
    "    else:\n",
    "        # If no error occurs, return the converted integer\n",
    "        return int(string)\n",
    "\n",
    "# Test the function with a valid integer string\n",
    "print(convert_string_to_int(\"315\"))\n",
    "# Test the function with an invalid integer string\n",
    "print(convert_string_to_int(\"abc\")) # Outputs: Invalid input, cannot convert to integer."
   ]
  },
  {
   "cell_type": "markdown",
   "id": "01bcc3ed-8e5f-4ee4-b364-d40b8739fd52",
   "metadata": {},
   "source": [
    "(b) Den skiljer koden som ska köras om allt går bra från koden som hanterar exceptions."
   ]
  },
  {
   "cell_type": "markdown",
   "id": "02eeb38c-dde9-441d-9e9d-4f6bf7f3007f",
   "metadata": {},
   "source": [
    "3."
   ]
  },
  {
   "cell_type": "code",
   "execution_count": 23,
   "id": "df97c054-45f6-4ef1-a33c-7a16f24e9541",
   "metadata": {},
   "outputs": [
    {
     "name": "stdout",
     "output_type": "stream",
     "text": [
      "HELLO, HOW ARE YOU?\n",
      "562\n"
     ]
    }
   ],
   "source": [
    "def convert_to_upper(string):\n",
    "    try:\n",
    "        # Convert the string to uppercase using the correct method\n",
    "        return string.upper()\n",
    "    except AttributeError:\n",
    "        # Catch an AttributeError if the input is not a string (e.g., if an integer is passed)\n",
    "        return \"Invalid input, cannot convert to upper.\"\n",
    "\n",
    "print(convert_to_upper(\"hello, how are you?\"))  # Outputs: HELLO, HOW ARE YOU?\n",
    "print(convert_to_upper(\"562\"))  # Outputs: 562"
   ]
  },
  {
   "cell_type": "markdown",
   "id": "63b64f85-7c9f-4efc-9763-9060b07bb170",
   "metadata": {},
   "source": [
    "4."
   ]
  },
  {
   "cell_type": "code",
   "execution_count": 24,
   "id": "41219cb8-514e-4a36-9e43-77e5bd68587b",
   "metadata": {},
   "outputs": [
    {
     "name": "stdout",
     "output_type": "stream",
     "text": [
      "105\n"
     ]
    },
    {
     "ename": "ValueError",
     "evalue": "Both numbers must be smaller than or equal to 100",
     "output_type": "error",
     "traceback": [
      "\u001b[1;31m---------------------------------------------------------------------------\u001b[0m",
      "\u001b[1;31mValueError\u001b[0m                                Traceback (most recent call last)",
      "Cell \u001b[1;32mIn[24], line 7\u001b[0m\n\u001b[0;32m      4\u001b[0m     \u001b[38;5;28;01mreturn\u001b[39;00m a \u001b[38;5;241m+\u001b[39m b\n\u001b[0;32m      6\u001b[0m \u001b[38;5;28mprint\u001b[39m(add_two_small_numbers(\u001b[38;5;241m34\u001b[39m, \u001b[38;5;241m71\u001b[39m)) \n\u001b[1;32m----> 7\u001b[0m \u001b[38;5;28mprint\u001b[39m(add_two_small_numbers(\u001b[38;5;241m101\u001b[39m, \u001b[38;5;241m50\u001b[39m))\n",
      "Cell \u001b[1;32mIn[24], line 3\u001b[0m, in \u001b[0;36madd_two_small_numbers\u001b[1;34m(a, b)\u001b[0m\n\u001b[0;32m      1\u001b[0m \u001b[38;5;28;01mdef\u001b[39;00m \u001b[38;5;21madd_two_small_numbers\u001b[39m(a,b):\n\u001b[0;32m      2\u001b[0m     \u001b[38;5;28;01mif\u001b[39;00m a \u001b[38;5;241m>\u001b[39m \u001b[38;5;241m100\u001b[39m \u001b[38;5;129;01mor\u001b[39;00m b \u001b[38;5;241m>\u001b[39m \u001b[38;5;241m100\u001b[39m:\n\u001b[1;32m----> 3\u001b[0m         \u001b[38;5;28;01mraise\u001b[39;00m \u001b[38;5;167;01mValueError\u001b[39;00m(\u001b[38;5;124m\"\u001b[39m\u001b[38;5;124mBoth numbers must be smaller than or equal to 100\u001b[39m\u001b[38;5;124m\"\u001b[39m)\n\u001b[0;32m      4\u001b[0m     \u001b[38;5;28;01mreturn\u001b[39;00m a \u001b[38;5;241m+\u001b[39m b\n",
      "\u001b[1;31mValueError\u001b[0m: Both numbers must be smaller than or equal to 100"
     ]
    }
   ],
   "source": [
    "def add_two_small_numbers(a,b):\n",
    "    if a > 100 or b > 100:\n",
    "        raise ValueError(\"Both numbers must be smaller than or equal to 100\")\n",
    "    return a + b\n",
    "\n",
    "print(add_two_small_numbers(34, 71)) \n",
    "print(add_two_small_numbers(101, 50))"
   ]
  },
  {
   "cell_type": "markdown",
   "id": "886f4a67-30cb-48ce-86ca-464989a48169",
   "metadata": {},
   "source": [
    "5."
   ]
  },
  {
   "cell_type": "code",
   "execution_count": 26,
   "id": "414097d4-56c1-4707-8b55-44db3ffc470b",
   "metadata": {},
   "outputs": [
    {
     "name": "stdout",
     "output_type": "stream",
     "text": [
      "<class 'TypeError'>\n",
      "unsupported operand type(s) for +: 'int' and 'str'\n"
     ]
    }
   ],
   "source": [
    "#Checking which exception is raised\n",
    "\n",
    "try: \n",
    "    5 + \"Python is fun!\"\n",
    "except Exception as exception_instance:\n",
    "    print(type(exception_instance))\n",
    "    print(exception_instance)"
   ]
  },
  {
   "cell_type": "code",
   "execution_count": 27,
   "id": "d6f0700c-a621-41f2-9e03-0c550d333bf4",
   "metadata": {},
   "outputs": [
    {
     "name": "stdout",
     "output_type": "stream",
     "text": [
      "<class 'ZeroDivisionError'>\n",
      "division by zero\n"
     ]
    }
   ],
   "source": [
    "#Checking which exception is raised\n",
    "try:\n",
    "    5/0\n",
    "except Exception as exception_instance:\n",
    "     print(type(exception_instance))\n",
    "     print(exception_instance)"
   ]
  },
  {
   "cell_type": "code",
   "execution_count": 28,
   "id": "a2099250-0919-4490-abf0-72f627015d81",
   "metadata": {},
   "outputs": [],
   "source": [
    "def add_two_numbers(a,b):\n",
    "    try:\n",
    "        return(a/b)\n",
    "    except TypeError:\n",
    "        print(\"Both arguments must be numbers.\")\n",
    "    except ZeroDivisionError:\n",
    "        print(\"Division by zero is not defined.\")"
   ]
  },
  {
   "cell_type": "code",
   "execution_count": 29,
   "id": "64b9b848-efa1-4eea-a15f-1d0c6df4214f",
   "metadata": {},
   "outputs": [
    {
     "name": "stdout",
     "output_type": "stream",
     "text": [
      "2.5\n",
      "Both arguments must be numbers.\n",
      "None\n",
      "Division by zero is not defined.\n",
      "None\n"
     ]
    }
   ],
   "source": [
    "#Testing so the functionality is as expected\n",
    "print(add_two_numbers(5,2))\n",
    "print(add_two_numbers(5,\"hello\"))\n",
    "print(add_two_numbers(5,0))"
   ]
  },
  {
   "cell_type": "markdown",
   "id": "981ed1db-cc41-41a2-a419-4a97a2b20c72",
   "metadata": {},
   "source": [
    "Det här kodavsnittet visar hur man hanterar exceptions i Python genom att kontrollera vilka exceptions som uppstår under olika operationer och se till att en funktion beter sig korrekt när den stöter på fel."
   ]
  },
  {
   "cell_type": "markdown",
   "id": "439520d2-5186-4e5a-bbac-3756b9c17867",
   "metadata": {},
   "source": [
    "### 9-Test uppgifter"
   ]
  },
  {
   "cell_type": "markdown",
   "id": "2189b728-a162-40f8-9e9c-886ca4791ff0",
   "metadata": {},
   "source": [
    "1. Det är en god ide att bygga upp tester för sin kod när programmeringsprojekt växer i komplexitet. Man kan ha koll på olika delar av koden eller systemet med hjälp av tester. Tester hjälper ossatt säkerställa att befintlig kod fungerar som den ska."
   ]
  },
  {
   "cell_type": "markdown",
   "id": "c06743c4-9b71-45ef-8da7-b05101db1039",
   "metadata": {},
   "source": [
    "2. doctest"
   ]
  },
  {
   "cell_type": "code",
   "execution_count": 30,
   "id": "99e21390-06d3-400e-aa82-b8ae9c861933",
   "metadata": {},
   "outputs": [
    {
     "data": {
      "text/plain": [
       "TestResults(failed=0, attempted=1)"
      ]
     },
     "execution_count": 30,
     "metadata": {},
     "output_type": "execute_result"
    }
   ],
   "source": [
    "def multiply_two_numbers(a,b):\n",
    "    \"\"\"Return the product of a and b. \n",
    "    >>> multiply_two_numbers(7,8)\n",
    "    56\n",
    "    \"\"\"\n",
    "    return a*b\n",
    "\n",
    "import doctest\n",
    "doctest.testmod()"
   ]
  },
  {
   "cell_type": "markdown",
   "id": "68d3e2de-03d0-4819-8e0a-0f13d896615c",
   "metadata": {},
   "source": [
    "3."
   ]
  },
  {
   "cell_type": "code",
   "execution_count": 32,
   "id": "77749a80-ec2b-4583-ae08-4afd6542b105",
   "metadata": {},
   "outputs": [
    {
     "name": "stdout",
     "output_type": "stream",
     "text": [
      "**********************************************************************\n",
      "File \"__main__\", line 9, in __main__.reverse_string\n",
      "Failed example:\n",
      "    reverse_string(\"theo\")\n",
      "Expected:\n",
      "    'theo'\n",
      "Got:\n",
      "    'oeht'\n",
      "**********************************************************************\n",
      "1 items had failures:\n",
      "   1 of   3 in __main__.reverse_string\n",
      "***Test Failed*** 1 failures.\n"
     ]
    },
    {
     "data": {
      "text/plain": [
       "TestResults(failed=1, attempted=4)"
      ]
     },
     "execution_count": 32,
     "metadata": {},
     "output_type": "execute_result"
    }
   ],
   "source": [
    "def reverse_string(s):\n",
    "    \"\"\"\n",
    "    Returns the reverse of the string s.\n",
    "\n",
    "    >>> reverse_string(\"shriya\")\n",
    "    'ayirhs'\n",
    "    >>> reverse_string(\"Python\")\n",
    "    'nohtyP'\n",
    "    >>> reverse_string(\"theo\")\n",
    "    'theo'\n",
    "    \"\"\"\n",
    "    return s[::-1]\n",
    "\n",
    "import doctest\n",
    "doctest.testmod()"
   ]
  },
  {
   "cell_type": "markdown",
   "id": "187ca350-50c6-40ec-87b0-dbf050fe851a",
   "metadata": {},
   "source": [
    "### 10-Moduler och paket uppgifter"
   ]
  },
  {
   "cell_type": "code",
   "execution_count": 33,
   "id": "2445f466-86ef-4aa1-8a7c-2eb519bb9c98",
   "metadata": {},
   "outputs": [
    {
     "name": "stdout",
     "output_type": "stream",
     "text": [
      "Addition of 10 and 5: 15\n",
      "Subtraction of 10 and 5: 5\n"
     ]
    }
   ],
   "source": [
    "# Importerar modulen i en Jupyter Notebook\n",
    "import my_module #importeras från vs code\n",
    "\n",
    "# Test the addition function\n",
    "result_add = my_module.addition(10, 5)\n",
    "print(f\"Addition of 10 and 5: {result_add}\")\n",
    "\n",
    "# Test the subtraction function\n",
    "result_sub = my_module.subtraction(10, 5)\n",
    "print(f\"Subtraction of 10 and 5: {result_sub}\")"
   ]
  },
  {
   "cell_type": "markdown",
   "id": "46d2785b-c4b5-45e1-b180-2364b833e614",
   "metadata": {},
   "source": [
    "### 11-Loggning uppgifter"
   ]
  },
  {
   "cell_type": "markdown",
   "id": "9a695deb-d465-4f30-aa15-9485f242e15a",
   "metadata": {},
   "source": [
    "1. Loggfiler med information kan vara viktiga för företag och organisationer för att de har flertalet processer som automatiskt kör programmeringskod via mölntjänster eller egna servrar så det inte är någon människa som manuellt kör koden. Då behöver ett sätt för att kolla hur körningarna har gått och vid eventuella fel eller problem förstå vad som har gått fel för att det ska kunna åtgärdas. Detta kan man göra genom att kolla på logg-filer där information från exekverad programmeringskod lagras.\n",
    "\n",
    "2. Olika nivåer för loggmeddelanden innebär att loggar klassificeras efter deras allvarlighet eller betydelse. Vanliga nivåer är:\n",
    "\n",
    "DEBUG: Detaljerad information för felsökning.  \n",
    "INFO: Allmänna händelser som bekräftar att saker fungerar som förväntat.  \n",
    "WARNING: Något oväntat hände, men programmet fortsätter att fungera.  \n",
    "ERROR: Ett problem som förhindrade en funktion från att utföras.  \n",
    "CRITICAL: Allvarligt fel som kan stoppa programmet.  \n",
    "\n",
    "Dessa nivåer hjälper till att filtrera och prioritera logginformation."
   ]
  },
  {
   "cell_type": "code",
   "execution_count": 34,
   "id": "58a57190-49c9-4cfc-96d7-2534c4a0f455",
   "metadata": {},
   "outputs": [],
   "source": [
    "import logging \n",
    "\n",
    "# Konfigurera logging \n",
    "logging.basicConfig(\n",
    "    filename='bank.log',format='[%(asctime)s][%(levelname)s] %(message)s', level=logging.DEBUG, datefmt='%Y-%m-%d %H:%M')\n",
    "\n",
    "class BankAccount:\n",
    "    def __init__(self, account_holder, balance=0):\n",
    "        self.account_holder= account_holder\n",
    "        self.balance= balance\n",
    "        logging.info(f'Created account for {self.account_holder} with balance {self.balance}')\n",
    "\n",
    "    def deposit(self, amount):\n",
    "        self.balance += amount\n",
    "        print(f'{amount} deposited. New balance {self.balance}')\n",
    "\n",
    "    def withdraw(self, amount):\n",
    "        if amount>self.balance:\n",
    "            logging.error(f'{self.account_holder} tried to withdraw {amount}, but balance is only {self.balance}')\n",
    "            print(\"Balance too low.\")\n",
    "        elif amount <= 0:\n",
    "            logging.warning(f'Tried to withdraw non-positive amount: {amount}')\n",
    "        else:\n",
    "            self.balance -= amount\n",
    "            logging.info(f'{amount} withdrawn from {self.account_holder}\\'s account. New balance: {self.balance}')\n",
    "            \n",
    "    def get_balance(self):\n",
    "        logging.info(f'{self.account_holder} checked balance. Current balance: {self.balance}')\n",
    "        \n",
    "        return self.balance\n",
    "\n"
   ]
  },
  {
   "cell_type": "code",
   "execution_count": 35,
   "id": "1fb08d27-9c8a-43ef-821e-f3bd9e898d02",
   "metadata": {},
   "outputs": [
    {
     "name": "stdout",
     "output_type": "stream",
     "text": [
      "50 deposited. New balance 150\n",
      "Balance too low.\n",
      "-10 deposited. New balance 110\n",
      "Shriya's final balance is: 110\n"
     ]
    }
   ],
   "source": [
    "# Testing the class\n",
    "if __name__ == \"__main__\":\n",
    "    account = BankAccount('Shriya', 100)\n",
    "    account.deposit(50)\n",
    "    account.withdraw(30)\n",
    "    account.withdraw(150)  # This should log an error\n",
    "    account.deposit(-10)    # Log a warning\n",
    "    account.withdraw(0)     # Log a warning\n",
    "    balance = account.get_balance()\n",
    "    print(f'Shriya\\'s final balance is: {balance}')"
   ]
  },
  {
   "cell_type": "code",
   "execution_count": 36,
   "id": "42e9d2fa-109e-4591-868d-519b7dd5c17d",
   "metadata": {},
   "outputs": [
    {
     "name": "stdout",
     "output_type": "stream",
     "text": [
      "[2024-09-04 13:39][INFO] Created account for Shriya with balance 100\n",
      "[2024-09-04 13:39][INFO] 30 withdrawn from Shriya's account. New balance: 120\n",
      "[2024-09-04 13:39][ERROR] Shriya tried to withdraw 150, but balance is only 120\n",
      "[2024-09-04 13:39][WARNING] Tried to withdraw non-positive amount: 0\n",
      "[2024-09-04 13:39][INFO] Created account for Shriya with balance 100\n",
      "[2024-09-04 13:39][INFO] 30 withdrawn from Shriya's account. New balance: 120\n",
      "[2024-09-04 13:39][ERROR] Shriya tried to withdraw 150, but balance is only 120\n",
      "[2024-09-04 13:39][WARNING] Tried to withdraw non-positive amount: 0\n",
      "[2024-09-04 13:41][INFO] Created account for Shriya with balance 100\n",
      "[2024-09-04 13:41][INFO] 30 withdrawn from Shriya's account. New balance: 120\n",
      "[2024-09-04 13:41][ERROR] Shriya tried to withdraw 150, but balance is only 120\n",
      "[2024-09-04 13:41][WARNING] Tried to withdraw non-positive amount: 0\n",
      "[2024-09-04 13:44][INFO] Created account for Alice with balance 100\n",
      "[2024-09-04 13:44][INFO] 30 withdrawn from Alice's account. New balance: 120\n",
      "[2024-09-04 13:44][ERROR] Alice tried to withdraw 150, but balance is only 120\n",
      "[2024-09-04 13:44][WARNING] Tried to withdraw non-positive amount: 0\n",
      "[2024-09-04 13:44][INFO] Alice checked balance. Current balance: 110\n",
      "[2024-09-04 13:44][INFO] Created account for Shriya with balance 100\n",
      "[2024-09-04 13:44][INFO] 30 withdrawn from Shriya's account. New balance: 120\n",
      "[2024-09-04 13:44][ERROR] Shriya tried to withdraw 150, but balance is only 120\n",
      "[2024-09-04 13:44][WARNING] Tried to withdraw non-positive amount: 0\n",
      "[2024-09-04 13:44][INFO] Shriya checked balance. Current balance: 110\n",
      "[2024-09-04 13:46][INFO] Created account for Shriya with balance 100\n",
      "[2024-09-04 13:46][INFO] 30 withdrawn from Shriya's account. New balance: 120\n",
      "[2024-09-04 13:46][ERROR] Shriya tried to withdraw 150, but balance is only 120\n",
      "[2024-09-04 13:46][WARNING] Tried to withdraw non-positive amount: 0\n",
      "[2024-09-04 13:46][INFO] Shriya checked balance. Current balance: 110\n",
      "[2024-09-04 13:48][INFO] Created account for Shriya with balance 100\n",
      "[2024-09-04 13:48][INFO] 30 withdrawn from Shriya's account. New balance: 120\n",
      "[2024-09-04 13:48][ERROR] Shriya tried to withdraw 150, but balance is only 120\n",
      "[2024-09-04 13:48][WARNING] Tried to withdraw non-positive amount: 0\n",
      "[2024-09-04 13:48][INFO] Shriya checked balance. Current balance: 110\n"
     ]
    }
   ],
   "source": [
    "!type bank.log"
   ]
  }
 ],
 "metadata": {
  "kernelspec": {
   "display_name": "Python 3 (ipykernel)",
   "language": "python",
   "name": "python3"
  },
  "language_info": {
   "codemirror_mode": {
    "name": "ipython",
    "version": 3
   },
   "file_extension": ".py",
   "mimetype": "text/x-python",
   "name": "python",
   "nbconvert_exporter": "python",
   "pygments_lexer": "ipython3",
   "version": "3.11.9"
  }
 },
 "nbformat": 4,
 "nbformat_minor": 5
}
